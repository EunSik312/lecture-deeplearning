{
  "nbformat": 4,
  "nbformat_minor": 0,
  "metadata": {
    "colab": {
      "provenance": [],
      "gpuType": "T4",
      "authorship_tag": "ABX9TyPzdoSgyOP19Cd7qRHMe78n",
      "include_colab_link": true
    },
    "kernelspec": {
      "name": "python3",
      "display_name": "Python 3"
    },
    "language_info": {
      "name": "python"
    },
    "accelerator": "GPU"
  },
  "cells": [
    {
      "cell_type": "markdown",
      "metadata": {
        "id": "view-in-github",
        "colab_type": "text"
      },
      "source": [
        "<a href=\"https://colab.research.google.com/github/EunSik312/623_chungnam/blob/main/python3_basic_w3school.ipynb\" target=\"_parent\"><img src=\"https://colab.research.google.com/assets/colab-badge.svg\" alt=\"Open In Colab\"/></a>"
      ]
    },
    {
      "cell_type": "markdown",
      "source": [
        "파이썬 기초 - w3school https://www.w3schools.com/python/matplotlib_intro.asp"
      ],
      "metadata": {
        "id": "ZCY6O6ChDQR8"
      }
    },
    {
      "cell_type": "code",
      "execution_count": null,
      "metadata": {
        "colab": {
          "base_uri": "https://localhost:8080/"
        },
        "id": "v7KpR8fSAN7o",
        "outputId": "d1098783-196a-439f-b456-bfdb804ab53d"
      },
      "outputs": [
        {
          "output_type": "stream",
          "name": "stdout",
          "text": [
            "hello, wolrd\n"
          ]
        }
      ],
      "source": [
        "print(\"hello, wolrd\")"
      ]
    },
    {
      "cell_type": "markdown",
      "source": [],
      "metadata": {
        "id": "9FA6VA3RDhd4"
      }
    },
    {
      "cell_type": "code",
      "source": [
        "if 5 > 2:\n",
        "  print(\"five is greater than two!\")"
      ],
      "metadata": {
        "colab": {
          "base_uri": "https://localhost:8080/"
        },
        "id": "51qlRUZ_EMrU",
        "outputId": "a2a7d990-2cab-489b-e38e-95dc0454e1f1"
      },
      "execution_count": null,
      "outputs": [
        {
          "output_type": "stream",
          "name": "stdout",
          "text": [
            "five is greater than two!\n"
          ]
        }
      ]
    },
    {
      "cell_type": "code",
      "source": [
        "x = 5\n",
        "y = \"jonh\"\n",
        "print(x)\n",
        "print(y)"
      ],
      "metadata": {
        "colab": {
          "base_uri": "https://localhost:8080/"
        },
        "id": "BskvaZ4tIP_W",
        "outputId": "3c9567f3-30f6-4fb5-cde1-c84767d70e10"
      },
      "execution_count": null,
      "outputs": [
        {
          "output_type": "stream",
          "name": "stdout",
          "text": [
            "5\n",
            "jonh\n"
          ]
        }
      ]
    },
    {
      "cell_type": "code",
      "source": [
        "x = str(3)\n",
        "y = int(3)\n",
        "z = float(3)\n",
        "print(x)\n",
        "print(y)\n",
        "print(z)\n",
        "\n"
      ],
      "metadata": {
        "colab": {
          "base_uri": "https://localhost:8080/"
        },
        "id": "cpk9KHXoIbrk",
        "outputId": "274b022f-ab13-4626-d53b-bea1afecd59e"
      },
      "execution_count": null,
      "outputs": [
        {
          "output_type": "stream",
          "name": "stdout",
          "text": [
            "3\n",
            "3\n",
            "3.0\n"
          ]
        }
      ]
    },
    {
      "cell_type": "code",
      "source": [
        "myvar = \"John\"\n",
        "my_var = \"John\"\n",
        "_my_var = \"John\"\n",
        "myVar = \"John\"\n",
        "MYVAR = \"John\"\n",
        "myvar2 = \"John\"\n",
        "print(_my_var)"
      ],
      "metadata": {
        "colab": {
          "base_uri": "https://localhost:8080/"
        },
        "id": "uv8Ax_ibI7ru",
        "outputId": "eaeefc40-f32c-4809-988a-7833510a125e"
      },
      "execution_count": null,
      "outputs": [
        {
          "output_type": "stream",
          "name": "stdout",
          "text": [
            "John\n"
          ]
        }
      ]
    },
    {
      "cell_type": "code",
      "source": [
        "x, y, z = \"orange\", \"banana\", \"cherry\"\n",
        "print(x)\n",
        "print(y)\n",
        "print(z)"
      ],
      "metadata": {
        "colab": {
          "base_uri": "https://localhost:8080/"
        },
        "id": "3WycBeMVJHME",
        "outputId": "b51a24c0-bc59-4b62-a4d2-ccdf4d4fa4b3"
      },
      "execution_count": null,
      "outputs": [
        {
          "output_type": "stream",
          "name": "stdout",
          "text": [
            "orange\n",
            "banana\n",
            "cherry\n"
          ]
        }
      ]
    },
    {
      "cell_type": "code",
      "source": [
        "x = y = z = \"Orange\"\n",
        "print(x)\n",
        "print(y)\n",
        "print(z)"
      ],
      "metadata": {
        "colab": {
          "base_uri": "https://localhost:8080/"
        },
        "id": "ZP5-LIG3JpJc",
        "outputId": "509fd4c8-a23d-4477-d966-d4f10b65ea0c"
      },
      "execution_count": null,
      "outputs": [
        {
          "output_type": "stream",
          "name": "stdout",
          "text": [
            "Orange\n",
            "Orange\n",
            "Orange\n"
          ]
        }
      ]
    },
    {
      "cell_type": "code",
      "source": [
        "fruits = [\"apple\", \"banana\", \"cherry\"]\n",
        "x, y, z = fruits\n",
        "print(x)\n",
        "print(y)\n",
        "print(z)"
      ],
      "metadata": {
        "colab": {
          "base_uri": "https://localhost:8080/"
        },
        "id": "D5tq65KlJ11d",
        "outputId": "983c7c2a-e947-406a-b0ff-dce9471d4cc0"
      },
      "execution_count": null,
      "outputs": [
        {
          "output_type": "stream",
          "name": "stdout",
          "text": [
            "apple\n",
            "banana\n",
            "cherry\n"
          ]
        }
      ]
    },
    {
      "cell_type": "code",
      "source": [
        "x = \"Python\"\n",
        "y = \"is\"\n",
        "z = \"awesome\"\n",
        "print(x, y, z)"
      ],
      "metadata": {
        "colab": {
          "base_uri": "https://localhost:8080/"
        },
        "id": "vuwtDmLtJ3St",
        "outputId": "a6d83c45-4fb8-4807-f4e2-6c43b0af5514"
      },
      "execution_count": null,
      "outputs": [
        {
          "output_type": "stream",
          "name": "stdout",
          "text": [
            "Python is awesome\n"
          ]
        }
      ]
    },
    {
      "cell_type": "code",
      "source": [
        "x = \"Python \"\n",
        "y = \"is \"\n",
        "z = \"awesome\"\n",
        "print(x+y+z)\n"
      ],
      "metadata": {
        "colab": {
          "base_uri": "https://localhost:8080/"
        },
        "id": "oj7J_lJuKBUt",
        "outputId": "85b41059-398f-404f-ec67-ecf91804b7b9"
      },
      "execution_count": null,
      "outputs": [
        {
          "output_type": "stream",
          "name": "stdout",
          "text": [
            "Python is awesome\n"
          ]
        }
      ]
    },
    {
      "cell_type": "code",
      "source": [
        "x = 5\n",
        "y = 10\n",
        "print(x + y)"
      ],
      "metadata": {
        "colab": {
          "base_uri": "https://localhost:8080/"
        },
        "id": "AoSmHo-vKTQO",
        "outputId": "e275c461-8fd4-43c0-8303-23784a927bb5"
      },
      "execution_count": null,
      "outputs": [
        {
          "output_type": "stream",
          "name": "stdout",
          "text": [
            "15\n"
          ]
        }
      ]
    },
    {
      "cell_type": "code",
      "source": [
        "x = \"awesome\"\n",
        "\n",
        "def myfunc():\n",
        "  print(\"Python is\" + x)\n",
        "\n",
        "myfunc()"
      ],
      "metadata": {
        "colab": {
          "base_uri": "https://localhost:8080/"
        },
        "id": "n-TOb3NJKdsE",
        "outputId": "2b4b2c7c-d625-4794-b778-8169dd51040c"
      },
      "execution_count": null,
      "outputs": [
        {
          "output_type": "stream",
          "name": "stdout",
          "text": [
            "Python isawesome\n"
          ]
        }
      ]
    },
    {
      "cell_type": "code",
      "source": [
        "x = \"awesome\"\n",
        "\n",
        "def myfunc():\n",
        "  x = \"fantastic\"\n",
        "  print(\"Python is \" + x)\n",
        "\n",
        "myfunc()\n",
        "\n",
        "print(\"Python is \" + x)\n"
      ],
      "metadata": {
        "colab": {
          "base_uri": "https://localhost:8080/"
        },
        "id": "Pi9rZydlK3TM",
        "outputId": "a930bd5c-2428-40e9-8e83-cf39ffaf2e67"
      },
      "execution_count": null,
      "outputs": [
        {
          "output_type": "stream",
          "name": "stdout",
          "text": [
            "Python is fantastic\n",
            "Python is awesome\n"
          ]
        }
      ]
    },
    {
      "cell_type": "code",
      "source": [
        "def myfunc():\n",
        "  global x\n",
        "  x = \"fantastic\"\n",
        "\n",
        "myfunc()\n",
        "\n",
        "print(\"python is \" + x)"
      ],
      "metadata": {
        "colab": {
          "base_uri": "https://localhost:8080/"
        },
        "id": "7978kDr6LBbV",
        "outputId": "75342015-d8ee-4567-dd8f-ebf07e59b165"
      },
      "execution_count": null,
      "outputs": [
        {
          "output_type": "stream",
          "name": "stdout",
          "text": [
            "python is fantastic\n"
          ]
        }
      ]
    },
    {
      "cell_type": "code",
      "source": [
        "x = \"awesome\"\n",
        "\n",
        "def myfunc():\n",
        "  global x\n",
        "  x = \"fantastic\"\n",
        "\n",
        "myfunc()\n",
        "\n",
        "print(\"Python is \" + x)"
      ],
      "metadata": {
        "id": "9pazsG_OLN-8",
        "colab": {
          "base_uri": "https://localhost:8080/"
        },
        "outputId": "81ea117b-98dc-4b7a-d94c-6ad8015fe0fe"
      },
      "execution_count": null,
      "outputs": [
        {
          "output_type": "stream",
          "name": "stdout",
          "text": [
            "Python is fantastic\n"
          ]
        }
      ]
    },
    {
      "cell_type": "code",
      "source": [
        "x = \"Hello World\"\t#str\n",
        "x = 20\t#int\n",
        "x = 20.5\t#float\n",
        "x = 1j\t#complex\n",
        "x = [\"apple\", \"banana\", \"cherry\"]\t#list\n",
        "x = (\"apple\", \"banana\", \"cherry\")\t#tuple\n",
        "x = range(6)\t#range\n",
        "x = {\"name\" : \"John\", \"age\" : 36}\t#dict\n",
        "x = {\"apple\", \"banana\", \"cherry\"}\t#set\n",
        "x = frozenset({\"apple\", \"banana\", \"cherry\"})\t#frozenset\n",
        "x = True\t#bool\n",
        "x = b\"Hello\"\t#bytes\n",
        "x = bytearray(5)\t#bytearray\n",
        "x = memoryview(bytes(5))\t#memoryview\n",
        "x = None\t#NoneType\n"
      ],
      "metadata": {
        "id": "2Y38RLd5Liwc"
      },
      "execution_count": null,
      "outputs": []
    },
    {
      "cell_type": "code",
      "source": [
        "x = 1    # int\n",
        "y = 2.8  # float\n",
        "z = 1j   # complex\n",
        "print(type(x))\n",
        "print(type(y))\n",
        "print(type(z))"
      ],
      "metadata": {
        "colab": {
          "base_uri": "https://localhost:8080/"
        },
        "id": "DRPDW_cMMWR-",
        "outputId": "bef25d29-8c9a-4839-9216-c5cbeb194373"
      },
      "execution_count": null,
      "outputs": [
        {
          "output_type": "stream",
          "name": "stdout",
          "text": [
            "<class 'int'>\n",
            "<class 'float'>\n",
            "<class 'complex'>\n"
          ]
        }
      ]
    },
    {
      "cell_type": "code",
      "source": [
        "x = 1    # int\n",
        "y = 2.8  # float\n",
        "z = 1j   # complex\n",
        "\n",
        "#convert from int to float:\n",
        "a = float(x)\n",
        "\n",
        "#convert from float to int:\n",
        "b = int(y)\n",
        "\n",
        "#convert from int to complex:\n",
        "c = complex(x)\n",
        "\n",
        "print(a)\n",
        "print(b)\n",
        "print(c)\n",
        "\n",
        "print(type(a))\n",
        "print(type(b))\n",
        "print(type(c))"
      ],
      "metadata": {
        "colab": {
          "base_uri": "https://localhost:8080/"
        },
        "id": "Jal-BCtXMrL0",
        "outputId": "bf8b537c-30ad-4cbb-b6ef-2f4dd51b77e8"
      },
      "execution_count": null,
      "outputs": [
        {
          "output_type": "stream",
          "name": "stdout",
          "text": [
            "1.0\n",
            "2\n",
            "(1+0j)\n",
            "<class 'float'>\n",
            "<class 'int'>\n",
            "<class 'complex'>\n"
          ]
        }
      ]
    },
    {
      "cell_type": "code",
      "source": [
        "import random\n",
        "\n",
        "print(random.randrange(1, 10))"
      ],
      "metadata": {
        "colab": {
          "base_uri": "https://localhost:8080/"
        },
        "id": "Fabk0KTQM5sR",
        "outputId": "4b61b998-163b-4502-92ea-cda323343559"
      },
      "execution_count": null,
      "outputs": [
        {
          "output_type": "stream",
          "name": "stdout",
          "text": [
            "4\n"
          ]
        }
      ]
    },
    {
      "cell_type": "code",
      "source": [
        "a = \"Hello, World!\"\n",
        "print(a[3])\n",
        "#변수의 지명하는 숫자 자리의 문자를 프린트함"
      ],
      "metadata": {
        "colab": {
          "base_uri": "https://localhost:8080/"
        },
        "id": "ECoQm8clOKD9",
        "outputId": "7ad85842-fe04-4ed8-d311-7a41ad69c795"
      },
      "execution_count": null,
      "outputs": [
        {
          "output_type": "stream",
          "name": "stdout",
          "text": [
            "l\n"
          ]
        }
      ]
    },
    {
      "cell_type": "code",
      "source": [
        "a = \"Hello, World!\"\n",
        "print(len(a))\n",
        "#문자열 길이를 알려줌"
      ],
      "metadata": {
        "colab": {
          "base_uri": "https://localhost:8080/"
        },
        "id": "CvtKYZDAOWld",
        "outputId": "d2979ad8-10f0-44ad-eba0-f25d30e1977e"
      },
      "execution_count": null,
      "outputs": [
        {
          "output_type": "stream",
          "name": "stdout",
          "text": [
            "13\n"
          ]
        }
      ]
    },
    {
      "cell_type": "code",
      "source": [
        "txt = \"The best things in life are free!\"\n",
        "print(\"bet\" in txt)\n",
        "#텍스트에 내가 입력하는 문자열이 있는지 참 거짓 판단해줌"
      ],
      "metadata": {
        "colab": {
          "base_uri": "https://localhost:8080/"
        },
        "id": "XH4c9xjkOl72",
        "outputId": "63d563df-e8c5-472f-ffea-a96f097fcd35"
      },
      "execution_count": null,
      "outputs": [
        {
          "output_type": "stream",
          "name": "stdout",
          "text": [
            "False\n"
          ]
        }
      ]
    },
    {
      "cell_type": "code",
      "source": [
        "txt = \"The best things in life are free!\"\n",
        "if \"e\" in txt:\n",
        "  print(\"Yes, 'free' is present.\")"
      ],
      "metadata": {
        "colab": {
          "base_uri": "https://localhost:8080/"
        },
        "id": "8dddWKzKO1be",
        "outputId": "499e5a43-8fe1-4732-c1c9-bb77f6333e05"
      },
      "execution_count": null,
      "outputs": [
        {
          "output_type": "stream",
          "name": "stdout",
          "text": [
            "Yes, 'free' is present.\n"
          ]
        }
      ]
    },
    {
      "cell_type": "code",
      "source": [
        "txt = \"The best things in life are free!\"\n",
        "print(\"are\" not in txt)\n",
        "#are이 텍스트에 포함되지 않는다 = 거짓"
      ],
      "metadata": {
        "colab": {
          "base_uri": "https://localhost:8080/"
        },
        "id": "IHr6zAAPPBEN",
        "outputId": "5dd70af2-eeed-439c-ed14-067abb7773e4"
      },
      "execution_count": null,
      "outputs": [
        {
          "output_type": "stream",
          "name": "stdout",
          "text": [
            "False\n"
          ]
        }
      ]
    },
    {
      "cell_type": "code",
      "source": [
        "b = \"Hello, World!\"\n",
        "print(b[2:5])\n",
        "#지정한 범위의 문자 출력\n",
        "#슬라이싱"
      ],
      "metadata": {
        "colab": {
          "base_uri": "https://localhost:8080/"
        },
        "id": "5AFIPu9kPaON",
        "outputId": "66d0712a-7963-4d0d-8f77-115de3a5f055"
      },
      "execution_count": null,
      "outputs": [
        {
          "output_type": "stream",
          "name": "stdout",
          "text": [
            "llo\n"
          ]
        }
      ]
    },
    {
      "cell_type": "code",
      "source": [
        "b = \"Hello, World!\"\n",
        "print(b[:5])"
      ],
      "metadata": {
        "colab": {
          "base_uri": "https://localhost:8080/"
        },
        "id": "RYo8c4yPPgn9",
        "outputId": "332fa2e6-211d-4403-9367-a342c841ef88"
      },
      "execution_count": null,
      "outputs": [
        {
          "output_type": "stream",
          "name": "stdout",
          "text": [
            "Hello\n"
          ]
        }
      ]
    },
    {
      "cell_type": "code",
      "source": [
        "b = \"Hello, World!\"\n",
        "print(b[2:])"
      ],
      "metadata": {
        "colab": {
          "base_uri": "https://localhost:8080/"
        },
        "id": "YK2bDd3XPmSl",
        "outputId": "7be303d5-eda1-44ea-fc24-cf42e45b1b90"
      },
      "execution_count": null,
      "outputs": [
        {
          "output_type": "stream",
          "name": "stdout",
          "text": [
            "llo, World!\n"
          ]
        }
      ]
    },
    {
      "cell_type": "code",
      "source": [
        "b = \"Hello, World!\"\n",
        "print(b[-5:-2])"
      ],
      "metadata": {
        "colab": {
          "base_uri": "https://localhost:8080/"
        },
        "id": "htt9W0w6Pplc",
        "outputId": "01d13d88-8394-4fb8-d041-ca0deea4807b"
      },
      "execution_count": null,
      "outputs": [
        {
          "output_type": "stream",
          "name": "stdout",
          "text": [
            "orl\n"
          ]
        }
      ]
    },
    {
      "cell_type": "code",
      "source": [
        "a = \"Hello, World!\"\n",
        "print(a.upper())\n",
        "#a를 대문자로 바꾼다"
      ],
      "metadata": {
        "colab": {
          "base_uri": "https://localhost:8080/"
        },
        "id": "mjmQ6t6-Pw6u",
        "outputId": "cc552f01-738c-427e-fc1b-a10f1ce7f31b"
      },
      "execution_count": null,
      "outputs": [
        {
          "output_type": "stream",
          "name": "stdout",
          "text": [
            "HELLO, WORLD!\n"
          ]
        }
      ]
    },
    {
      "cell_type": "code",
      "source": [
        "a = \"Hello, World!\"\n",
        "print(a.lower())\n",
        "#a를 소문자로 바꾼다"
      ],
      "metadata": {
        "colab": {
          "base_uri": "https://localhost:8080/"
        },
        "id": "_e3CivsjPzR1",
        "outputId": "76388b08-029b-42cb-c896-abc9087972a5"
      },
      "execution_count": null,
      "outputs": [
        {
          "output_type": "stream",
          "name": "stdout",
          "text": [
            "hello, world!\n"
          ]
        }
      ]
    },
    {
      "cell_type": "code",
      "source": [
        "a = \"      Hello, World! \"\n",
        "print(a.strip()) # returns \"Hello, World!\"\n",
        "#공백 삭제해줌"
      ],
      "metadata": {
        "colab": {
          "base_uri": "https://localhost:8080/"
        },
        "id": "rXdhpO3DQESY",
        "outputId": "4ba97e01-794e-4510-ca01-323cd82b85ec"
      },
      "execution_count": null,
      "outputs": [
        {
          "output_type": "stream",
          "name": "stdout",
          "text": [
            "Hello, World!\n"
          ]
        }
      ]
    },
    {
      "cell_type": "code",
      "source": [
        "a = \"Hello, World!\"\n",
        "print(a.replace(\"H\", \"J\"))\n",
        "# H를 J로 대체"
      ],
      "metadata": {
        "colab": {
          "base_uri": "https://localhost:8080/"
        },
        "id": "s4y700bIQK6B",
        "outputId": "972d4223-6046-4bf0-a3a3-5d4c28b42354"
      },
      "execution_count": null,
      "outputs": [
        {
          "output_type": "stream",
          "name": "stdout",
          "text": [
            "Jello, World!\n"
          ]
        }
      ]
    },
    {
      "cell_type": "code",
      "source": [
        "a = \"Hello, World!\"\n",
        "print(a.split(\",\")) # returns ['Hello', ' World!']\n",
        "#한 변수에 큰 따옴표로 선언해도 작은 따옴표로 나뉘어져서 출력"
      ],
      "metadata": {
        "colab": {
          "base_uri": "https://localhost:8080/"
        },
        "id": "aJ_FVAFRQYn9",
        "outputId": "5e4f6870-a068-49b1-99e4-c996b08b9f20"
      },
      "execution_count": null,
      "outputs": [
        {
          "output_type": "stream",
          "name": "stdout",
          "text": [
            "['Hello', ' World!']\n"
          ]
        }
      ]
    },
    {
      "cell_type": "code",
      "source": [
        "a = \"Hello\"\n",
        "b = \"World\"\n",
        "c = a + b\n",
        "print(c)"
      ],
      "metadata": {
        "colab": {
          "base_uri": "https://localhost:8080/"
        },
        "id": "yqnAm7-LQkc-",
        "outputId": "65e1c561-06c6-48e4-ba71-0afbf605c570"
      },
      "execution_count": null,
      "outputs": [
        {
          "output_type": "stream",
          "name": "stdout",
          "text": [
            "HelloWorld\n"
          ]
        }
      ]
    },
    {
      "cell_type": "code",
      "source": [
        "a = \"Hello\"\n",
        "b = \"World\"\n",
        "c = a + \" \" + b\n",
        "print(c)"
      ],
      "metadata": {
        "colab": {
          "base_uri": "https://localhost:8080/"
        },
        "id": "BbqmD-wNQ63H",
        "outputId": "8d2596ca-b95d-462f-8ae6-b121ed357b55"
      },
      "execution_count": null,
      "outputs": [
        {
          "output_type": "stream",
          "name": "stdout",
          "text": [
            "Hello World\n"
          ]
        }
      ]
    },
    {
      "cell_type": "code",
      "source": [
        "age = 36\n",
        "txt = f\"My name is John, I am {age}\"\n",
        "print(txt)"
      ],
      "metadata": {
        "colab": {
          "base_uri": "https://localhost:8080/"
        },
        "id": "WMUoqVGnRHc1",
        "outputId": "fb966119-8a2c-448e-8318-aa883545a47d"
      },
      "execution_count": null,
      "outputs": [
        {
          "output_type": "stream",
          "name": "stdout",
          "text": [
            "My name is John, I am 36\n"
          ]
        }
      ]
    },
    {
      "cell_type": "code",
      "source": [
        "price = 59\n",
        "txt = f\"The price is {price} dollars\"\n",
        "print(txt)"
      ],
      "metadata": {
        "colab": {
          "base_uri": "https://localhost:8080/"
        },
        "id": "qCXG5_QkRNAd",
        "outputId": "c922b453-9481-4fcb-f3c6-fadacfb0b4a9"
      },
      "execution_count": null,
      "outputs": [
        {
          "output_type": "stream",
          "name": "stdout",
          "text": [
            "The price is 59 dollars\n"
          ]
        }
      ]
    },
    {
      "cell_type": "code",
      "source": [
        "price = 59\n",
        "txt = f\"The price is {price:.2f} dollars\"\n",
        "print(txt)"
      ],
      "metadata": {
        "colab": {
          "base_uri": "https://localhost:8080/"
        },
        "id": "xmDL6JtfRRIt",
        "outputId": "7f1dd85e-3790-4540-b089-75d6c29cda1d"
      },
      "execution_count": null,
      "outputs": [
        {
          "output_type": "stream",
          "name": "stdout",
          "text": [
            "The price is 59.00 dollars\n"
          ]
        }
      ]
    },
    {
      "cell_type": "code",
      "source": [
        "txt = f\"The price is {20 * 59} dollars\"\n",
        "print(txt)"
      ],
      "metadata": {
        "colab": {
          "base_uri": "https://localhost:8080/"
        },
        "id": "NSOM8FweRVDt",
        "outputId": "44f81a8b-021f-48ca-8f91-ebb54f5a5b66"
      },
      "execution_count": null,
      "outputs": [
        {
          "output_type": "stream",
          "name": "stdout",
          "text": [
            "The price is 1180 dollars\n"
          ]
        }
      ]
    },
    {
      "cell_type": "code",
      "source": [
        "txt = \"We are the so-called \\\"Vikings\\\" from the north.\"\n",
        "#\\'\tSingle Quote\n",
        "#\\\\\tBackslash\n",
        "#\\n\tNew Line\n",
        "#\\r\tCarriage Return\n",
        "#t\tTab\n",
        "#\\b\tBackspace\n",
        "#\\f\tForm Feed\n",
        "#\\ooo\tOctal value\n",
        "#\\xhh\tHex value"
      ],
      "metadata": {
        "id": "cKJpyS_yRXsl"
      },
      "execution_count": null,
      "outputs": []
    },
    {
      "cell_type": "code",
      "source": [
        "Method\tDescription\n",
        "capitalize()\tConverts the first character to upper case\n",
        "casefold()\tConverts string into lower case\n",
        "center()\tReturns a centered string\n",
        "count()\tReturns the number of times a specified value occurs in a string\n",
        "ncode()\tReturns an encoded version of the string\n",
        "endswith()\tReturns true if the string ends with the specified value\n",
        "expandtabs()\tSets the tab size of the string\n",
        "find()\tSearches the string for a specified value and returns the position of where it was found\n",
        "format()\tFormats specified values in a string\n",
        "format_map()\tFormats specified values in a string\n",
        "index()\tSearches the string for a specified value and returns the position of where it was found\n",
        "isalnum()\tReturns True if all characters in the string are alphanumeric\n",
        "isalpha()\tReturns True if all characters in the string are in the alphabet\n",
        "isascii()\tReturns True if all characters in the string are ascii characters\n",
        "isdecimal()\tReturns True if all characters in the string are decimals\n",
        "isdigit()\tReturns True if all characters in the string are digits\n",
        "isidentifier()\tReturns True if the string is an identifier\n",
        "islower()\tReturns True if all characters in the string are lower case\n",
        "isnumeric()\tReturns True if all characters in the string are numeric\n",
        "isprintable()\tReturns True if all characters in the string are printable\n",
        "isspace()\tReturns True if all characters in the string are whitespaces\n",
        "istitle()\tReturns True if the string follows the rules of a title\n",
        "isupper()\tReturns True if all characters in the string are upper case\n",
        "join()\tJoins the elements of an iterable to the end of the string\n",
        "ljust()\tReturns a left justified version of the string\n",
        "lower()\tConverts a string into lower case\n",
        "lstrip()\tReturns a left trim version of the string\n",
        "maketrans()\tReturns a translation table to be used in translations\n",
        "partition()\tReturns a tuple where the string is parted into three parts\n",
        "replace()\tReturns a string where a specified value is replaced with a specified value\n",
        "rfind()\tSearches the string for a specified value and returns the last position of where it was found\n",
        "rindex()\tSearches the string for a specified value and returns the last position of where it was found\n",
        "rjust()\tReturns a right justified version of the string\n",
        "rpartition()\tReturns a tuple where the string is parted into three parts\n",
        "rsplit()\tSplits the string at the specified separator, and returns a list\n",
        "rstrip()\tReturns a right trim version of the string\n",
        "split()\tSplits the string at the specified separator, and returns a list\n",
        "splitlines()\tSplits the string at line breaks and returns a list\n",
        "startswith()\tReturns true if the string starts with the specified value\n",
        "strip()\tReturns a trimmed version of the string\n",
        "swapcase()\tSwaps cases, lower case becomes upper case and vice versa\n",
        "title()\tConverts the first character of each word to upper case\n",
        "translate()\tReturns a translated string\n",
        "upper()\tConverts a string into upper case\n",
        "zfill()\tFills the string with a specified number of 0 values at the beginning#"
      ],
      "metadata": {
        "collapsed": true,
        "colab": {
          "base_uri": "https://localhost:8080/",
          "height": 106
        },
        "id": "yYa70HDqRrLe",
        "outputId": "d76c620b-0a9b-49cd-d544-7b7ca416af3b"
      },
      "execution_count": null,
      "outputs": [
        {
          "output_type": "error",
          "ename": "SyntaxError",
          "evalue": "invalid syntax (ipython-input-37-1310856892.py, line 1)",
          "traceback": [
            "\u001b[0;36m  File \u001b[0;32m\"/tmp/ipython-input-37-1310856892.py\"\u001b[0;36m, line \u001b[0;32m1\u001b[0m\n\u001b[0;31m    Method\tDescription\u001b[0m\n\u001b[0m          \t^\u001b[0m\n\u001b[0;31mSyntaxError\u001b[0m\u001b[0;31m:\u001b[0m invalid syntax\n"
          ]
        }
      ]
    },
    {
      "cell_type": "code",
      "source": [
        "print(10 > 9)\n",
        "print(10 == 9)\n",
        "print(10 < 9)"
      ],
      "metadata": {
        "colab": {
          "base_uri": "https://localhost:8080/"
        },
        "id": "8Nlcg3fsR0RW",
        "outputId": "40229fe9-6b2a-4f7b-d338-0b7a99437760"
      },
      "execution_count": null,
      "outputs": [
        {
          "output_type": "stream",
          "name": "stdout",
          "text": [
            "True\n",
            "False\n",
            "False\n"
          ]
        }
      ]
    },
    {
      "cell_type": "code",
      "source": [
        "a = 200\n",
        "b = 33\n",
        "\n",
        "if b > a:\n",
        "  print(\"b is greater than a\")\n",
        "else:\n",
        "  print(\"b is not greater than a\")"
      ],
      "metadata": {
        "id": "yArdMo-tSCll",
        "outputId": "6d61e517-b2c7-4a03-f2cf-554e5170b2ea",
        "colab": {
          "base_uri": "https://localhost:8080/"
        }
      },
      "execution_count": null,
      "outputs": [
        {
          "output_type": "stream",
          "name": "stdout",
          "text": [
            "b is not greater than a\n"
          ]
        }
      ]
    },
    {
      "cell_type": "code",
      "source": [
        "print(bool(\"Hello\"))\n",
        "print(bool(15))"
      ],
      "metadata": {
        "id": "rBydFiDVSEZG",
        "outputId": "ee207aae-3d99-41c4-cb96-4c7085508a30",
        "colab": {
          "base_uri": "https://localhost:8080/"
        }
      },
      "execution_count": null,
      "outputs": [
        {
          "output_type": "stream",
          "name": "stdout",
          "text": [
            "True\n",
            "True\n"
          ]
        }
      ]
    },
    {
      "cell_type": "code",
      "source": [
        "x = \"Hello\"\n",
        "y = 15\n",
        "\n",
        "print(bool(x))\n",
        "print(bool(y))"
      ],
      "metadata": {
        "id": "hXoffYk5SH79",
        "outputId": "32543da3-51cb-42bd-d6d5-b55a9da43b38",
        "colab": {
          "base_uri": "https://localhost:8080/"
        }
      },
      "execution_count": null,
      "outputs": [
        {
          "output_type": "stream",
          "name": "stdout",
          "text": [
            "True\n",
            "True\n"
          ]
        }
      ]
    },
    {
      "cell_type": "code",
      "source": [
        "bool(False)\n",
        "bool(None)\n",
        "bool(0)\n",
        "bool(\"\")\n",
        "bool(())\n",
        "bool([])\n",
        "bool({})"
      ],
      "metadata": {
        "id": "sp_MDjU8SSM1",
        "outputId": "4b770aaa-b98a-48c9-f080-4c5f3634cd04",
        "colab": {
          "base_uri": "https://localhost:8080/"
        }
      },
      "execution_count": null,
      "outputs": [
        {
          "output_type": "execute_result",
          "data": {
            "text/plain": [
              "False"
            ]
          },
          "metadata": {},
          "execution_count": 42
        }
      ]
    },
    {
      "cell_type": "code",
      "source": [
        "class myclass():\n",
        "  def __len__(self):\n",
        "    return 0\n",
        "\n",
        "myobj = myclass()\n",
        "print(bool(myobj))\n"
      ],
      "metadata": {
        "id": "Yc4R8NmnScJH",
        "outputId": "c709ce81-4790-491e-a8f0-e696ebd55232",
        "colab": {
          "base_uri": "https://localhost:8080/"
        }
      },
      "execution_count": null,
      "outputs": [
        {
          "output_type": "stream",
          "name": "stdout",
          "text": [
            "False\n"
          ]
        }
      ]
    },
    {
      "cell_type": "code",
      "source": [
        "def myFunction() :\n",
        "  return True\n",
        "\n",
        "print(myFunction())"
      ],
      "metadata": {
        "id": "RtqdJQOOSwCG",
        "outputId": "9135e32c-cb05-4867-d78f-0b919b784034",
        "colab": {
          "base_uri": "https://localhost:8080/"
        }
      },
      "execution_count": null,
      "outputs": [
        {
          "output_type": "stream",
          "name": "stdout",
          "text": [
            "True\n"
          ]
        }
      ]
    },
    {
      "cell_type": "code",
      "source": [
        "def myFunction() :\n",
        "  return True\n",
        "\n",
        "if myFunction():\n",
        "  print(\"YES!\")\n",
        "else:\n",
        "  print(\"NO!\")"
      ],
      "metadata": {
        "id": "on_k9MIJS1Il",
        "outputId": "4ca85a66-99bd-4313-cf0c-eea6202128d6",
        "colab": {
          "base_uri": "https://localhost:8080/"
        }
      },
      "execution_count": null,
      "outputs": [
        {
          "output_type": "stream",
          "name": "stdout",
          "text": [
            "YES!\n"
          ]
        }
      ]
    },
    {
      "cell_type": "code",
      "source": [
        "x = 200\n",
        "print(isinstance(x, float))"
      ],
      "metadata": {
        "id": "GLw6AwIdTj_F",
        "outputId": "4c393280-8bd9-4d1c-e68f-fc70a6df97cc",
        "colab": {
          "base_uri": "https://localhost:8080/"
        }
      },
      "execution_count": null,
      "outputs": [
        {
          "output_type": "stream",
          "name": "stdout",
          "text": [
            "False\n"
          ]
        }
      ]
    },
    {
      "cell_type": "code",
      "source": [
        "+\tAddition\tx + y\n",
        "-\tSubtraction\tx - y\n",
        "*\tMultiplication\tx * y\n",
        "/\tDivision\tx / y\n",
        "%\tModulus\tx % y\n",
        "**\tExponentiation\tx ** y\n",
        "//\tFloor division\tx // y\n",
        "=\tx = 5\tx = 5\n",
        "+=\tx += 3\tx = x + 3\n",
        "-=\tx -= 3\tx = x - 3\n",
        "*=\tx *= 3\tx = x * 3\n",
        "/=\tx /= 3\tx = x / 3\n",
        "%=\tx %= 3\tx = x % 3\n",
        "//=\tx //= 3\tx = x // 3\n",
        "**=\tx **= 3\tx = x ** 3\n",
        "&=\tx &= 3\tx = x & 3\n",
        "|=\tx |= 3\tx = x | 3\n",
        "^=\tx ^= 3\tx = x ^ 3\n",
        ">>=\tx >>= 3\tx = x >> 3\n",
        "<<=\tx <<= 3\tx = x << 3\n",
        ":=\tprint(x := 3)\tx = 3\n",
        "print(x)\n",
        "==\tEqual\tx == y\n",
        "!=\tNot equal\tx != y\n",
        ">\tGreater than\tx > y\n",
        "<\tLess than\tx < y\n",
        ">=\tGreater than or equal to\tx >= y\n",
        "<=\tLess than or equal to\tx <= y\n",
        "and \tReturns True if both statements are true\tx < 5 and  x < 10\n",
        "or\tReturns True if one of the statements is true\tx < 5 or x < 4\n",
        "not\tReverse the result, returns False if the result is true\tnot(x < 5 and x < 10)\n",
        "is \tReturns True if both variables are the same object\tx is y\n",
        "is not\tReturns True if both variables are not the same object\tx is not y\n",
        "in \tReturns True if a sequence with the specified value is present in the object\tx in y\n",
        "not in\tReturns True if a sequence with the specified value is not present in the object\tx not in y\n",
        "& \tAND\tSets each bit to 1 if both bits are 1\tx & y\n",
        "|\tOR\tSets each bit to 1 if one of two bits is 1\tx | y\n",
        "^\tXOR\tSets each bit to 1 if only one of two bits is 1\tx ^ y\n",
        "~\tNOT\tInverts all the bits\t~x\n",
        "<<\tZero fill left shift\tShift left by pushing zeros in from the right and let the leftmost bits fall off\tx << 2\n",
        ">>\tSigned right shift\tShift right by pushing copies of the leftmost bit in from the left, and let the rightmost bits fall off\tx >> 2\n",
        "()\tParentheses\n",
        "**\tExponentiation\n",
        "+x  -x  ~x\tUnary plus, unary minus, and bitwise NOT\n",
        "*  /  //  %\tMultiplication, division, floor division, and modulus\n",
        "+  -\tAddition and subtraction\n",
        "<<  >>\tBitwise left and right shifts\n",
        "&\tBitwise AND\n",
        "^\tBitwise XOR\n",
        "|\tBitwise OR\n",
        "==  !=  >  >=  <  <=  is  is not  in  not in \tComparisons, identity, and membership operators\n",
        "not\tLogical NOT\n",
        "and\tAND\n",
        "or\tOR"
      ],
      "metadata": {
        "id": "2tVeCG7RTqLG"
      },
      "execution_count": null,
      "outputs": []
    },
    {
      "cell_type": "code",
      "source": [
        "append()\tAdds an element at the end of the list\n",
        "clear()\tRemoves all the elements from the list\n",
        "copy()\tReturns a copy of the list\n",
        "count()\tReturns the number of elements with the specified value\n",
        "extend()\tAdd the elements of a list (or any iterable), to the end of the current list\n",
        "index()\tReturns the index of the first element with the specified value\n",
        "insert()\tAdds an element at the specified position\n",
        "pop()\tRemoves the element at the specified position\n",
        "remove()\tRemoves the item with the specified value\n",
        "reverse()\tReverses the order of the list\n",
        "sort()\tSorts the list\n"
      ],
      "metadata": {
        "id": "O0XWlvvrYuK-"
      },
      "execution_count": null,
      "outputs": []
    },
    {
      "cell_type": "code",
      "source": [
        "thistuple = (\"apple\", \"banana\", \"cherry\")\n",
        "print(thistuple)\n"
      ],
      "metadata": {
        "colab": {
          "base_uri": "https://localhost:8080/"
        },
        "id": "OGSPyD1VYzpe",
        "outputId": "0e134bcb-5522-49f0-dbd7-2dd7091d8278"
      },
      "execution_count": null,
      "outputs": [
        {
          "output_type": "stream",
          "name": "stdout",
          "text": [
            "('apple', 'banana', 'cherry')\n"
          ]
        }
      ]
    },
    {
      "cell_type": "code",
      "source": [
        "thistuple = (\"apple\", \"banana\", \"cherry\")\n",
        "print(len(thistuple))"
      ],
      "metadata": {
        "colab": {
          "base_uri": "https://localhost:8080/"
        },
        "id": "f_skMSl9Y7lF",
        "outputId": "871188d0-5e96-48df-d806-f5f907060986"
      },
      "execution_count": null,
      "outputs": [
        {
          "output_type": "stream",
          "name": "stdout",
          "text": [
            "3\n"
          ]
        }
      ]
    },
    {
      "cell_type": "code",
      "source": [
        "x = (\"apple\", \"banana\", \"cherry\")\n",
        "y = list(x)\n",
        "y[1] = \"kiwi\"\n",
        "x = tuple(y)\n",
        "\n",
        "print(x)"
      ],
      "metadata": {
        "colab": {
          "base_uri": "https://localhost:8080/"
        },
        "id": "ea4SeNXHZYcG",
        "outputId": "e9f3c72f-20ae-4492-a380-40baabae0919"
      },
      "execution_count": 1,
      "outputs": [
        {
          "output_type": "stream",
          "name": "stdout",
          "text": [
            "('apple', 'kiwi', 'cherry')\n"
          ]
        }
      ]
    },
    {
      "cell_type": "markdown",
      "source": [
        "좋아요! 초보자도 이해할 수 있도록 \\*\\*튜플(Tuple)\\*\\*을 간단하게 설명해드릴게요.\n",
        "\n",
        "---\n",
        "\n",
        "````markdown\n",
        "# 📦 Tuple (튜플)\n",
        "\n",
        "**튜플(Tuple)**은 Python에서 **여러 값을 하나로 묶을 수 있는 자료형**입니다.  \n",
        "**리스트와 비슷하지만, 수정이 불가능(immutable)**하다는 특징이 있어요.\n",
        "\n",
        "---\n",
        "\n",
        "## ✅ 튜플 만들기\n",
        "\n",
        "```python\n",
        "# 소괄호 () 를 사용해서 생성\n",
        "t1 = (1, 2, 3)\n",
        "t2 = (\"apple\", \"banana\", \"cherry\")\n",
        "````\n",
        "\n",
        "---\n",
        "\n",
        "## 🆚 튜플 vs 리스트\n",
        "\n",
        "| 구분 | 리스트 (`list`) | 튜플 (`tuple`)    |\n",
        "| -- | ------------ | --------------- |\n",
        "| 기호 | `[]` 대괄호     | `()` 소괄호        |\n",
        "| 수정 | 가능 (mutable) | 불가능 (immutable) |\n",
        "| 속도 | 느림           | 빠름              |\n",
        "| 용도 | 자주 바뀌는 데이터   | 고정된 데이터         |\n",
        "\n",
        "---\n",
        "\n",
        "## 📌 튜플 사용 예시\n",
        "\n",
        "```python\n",
        "person = (\"윤은식\", 25, \"개발자\")\n",
        "\n",
        "print(person[0])  # 윤은식\n",
        "print(person[1])  # 25\n",
        "```\n",
        "\n",
        "---\n",
        "\n",
        "## 🔒 튜플은 변경 불가\n",
        "\n",
        "```python\n",
        "t = (1, 2, 3)\n",
        "t[0] = 100  # ❌ 오류 발생! 튜플은 수정할 수 없음\n",
        "```\n",
        "\n",
        "---\n",
        "\n",
        "## 🧰 튜플 관련 함수\n",
        "\n",
        "```python\n",
        "t = (1, 2, 3, 2)\n",
        "\n",
        "len(t)       # 4 (길이)\n",
        "t.count(2)   # 2 (2가 몇 번 나오는지)\n",
        "t.index(3)   # 2 (3이 있는 인덱스)\n",
        "```\n",
        "\n",
        "---\n",
        "\n",
        "## 💡 언제 튜플을 쓸까?\n",
        "\n",
        "* 데이터가 **변하지 않아야 할 때**\n",
        "* **속도가 중요한 경우**\n",
        "* 예: (x, y) 좌표, RGB 색상, DB 결과 등\n",
        "\n",
        "---\n",
        "\n",
        "````\n",
        "\n",
        "### 예시 요약\n",
        "\n",
        "```python\n",
        "location = (37.55, 126.98)  # 위도, 경도 (튜플 사용 예시)\n",
        "````\n",
        "\n",
        "---\n",
        "\n",
        "필요하면 `list`, `set`, `dictionary`도 비슷한 형식으로 알려드릴게요.\n",
        "다음은 뭘 배우고 싶으신가요? 😄\n"
      ],
      "metadata": {
        "id": "gna8XcbnZzOA"
      }
    },
    {
      "cell_type": "code",
      "source": [
        "#count()\tReturns the number of times a specified value occurs in a tuple\n",
        "#index()\tSearches the tuple for a specified value and returns the position of where it was found\n",
        "#"
      ],
      "metadata": {
        "id": "t6DTJIMbZ0TO"
      },
      "execution_count": null,
      "outputs": []
    },
    {
      "cell_type": "code",
      "source": [],
      "metadata": {
        "id": "jYnA8RSpaI-d"
      },
      "execution_count": null,
      "outputs": []
    },
    {
      "cell_type": "markdown",
      "source": [
        "좋아요! 이번엔 **`set` (집합)** 에 대해 간단하고 깔끔하게 정리해드릴게요. 초보자가 이해하기 쉬운 예제와 함께 마크다운 형식으로 제공해요. `SET.md` 파일이나 `README.md`에 넣기 좋습니다.\n",
        "\n",
        "---\n",
        "\n",
        "````markdown\n",
        "# 🧮 Set (집합)\n",
        "\n",
        "**`set`**은 Python에서 **중복을 허용하지 않고**, **순서가 없는 데이터 집합**입니다.  \n",
        "수학에서 말하는 집합과 비슷하게 동작합니다.\n",
        "\n",
        "---\n",
        "\n",
        "## ✅ Set 만들기\n",
        "\n",
        "```python\n",
        "s = {1, 2, 3}\n",
        "print(s)  # {1, 2, 3}\n",
        "````\n",
        "\n",
        "⚠️ 중복된 값을 넣으면 자동으로 제거됩니다.\n",
        "\n",
        "```python\n",
        "s = {1, 2, 2, 3, 3}\n",
        "print(s)  # {1, 2, 3}\n",
        "```\n",
        "\n",
        "---\n",
        "\n",
        "## 📌 특징\n",
        "\n",
        "| 특징      | 설명                 |\n",
        "| ------- | ------------------ |\n",
        "| 중복 ❌    | 같은 값을 여러 번 저장하지 않음 |\n",
        "| 순서 없음 ❌ | 인덱싱(위치 접근) 불가능     |\n",
        "| 변경 가능 ✅ | 값을 추가하거나 제거할 수 있음  |\n",
        "\n",
        "---\n",
        "\n",
        "## 🔧 주요 메서드\n",
        "\n",
        "```python\n",
        "s = {1, 2, 3}\n",
        "\n",
        "s.add(4)      # 값 추가 → {1, 2, 3, 4}\n",
        "s.remove(2)   # 값 제거 → {1, 3, 4}\n",
        "s.clear()     # 모두 제거 → set()\n",
        "```\n",
        "\n",
        "---\n",
        "\n",
        "## 🔁 집합 연산\n",
        "\n",
        "```python\n",
        "a = {1, 2, 3}\n",
        "b = {3, 4, 5}\n",
        "\n",
        "a | b   # 합집합 → {1, 2, 3, 4, 5}\n",
        "a & b   # 교집합 → {3}\n",
        "a - b   # 차집합 → {1, 2}\n",
        "a ^ b   # 대칭차집합 → {1, 2, 4, 5}\n",
        "```\n",
        "\n",
        "---\n",
        "\n",
        "## ❌ 인덱싱 안 됨\n",
        "\n",
        "```python\n",
        "s = {10, 20, 30}\n",
        "print(s[0])  # 오류! set은 순서가 없음\n",
        "```\n",
        "\n",
        "**→ 리스트로 변환 후 사용 가능**\n",
        "\n",
        "```python\n",
        "lst = list(s)\n",
        "print(lst[0])  # 가능\n",
        "```\n",
        "\n",
        "---\n",
        "\n",
        "## 💡 언제 사용하나요?\n",
        "\n",
        "* 중복 제거가 필요할 때\n",
        "* 빠른 검색이 필요할 때 (`in` 연산 빠름)\n",
        "* 수학적 집합 연산이 필요할 때\n",
        "\n",
        "---\n",
        "\n",
        "## 🧠 예제\n",
        "\n",
        "```python\n",
        "words = [\"apple\", \"banana\", \"apple\", \"orange\", \"banana\"]\n",
        "unique_words = set(words)\n",
        "print(unique_words)  # {'apple', 'banana', 'orange'}\n",
        "```\n",
        "\n",
        "---\n",
        "\n",
        "```\n",
        "\n",
        "---\n",
        "\n",
        "다음으로 `dictionary`, `list`, `for loop`, `class` 등도 원하시면 계속 도와드릴게요!  \n",
        "어떤 걸 더 배우고 싶으신가요? 😄\n",
        "```\n"
      ],
      "metadata": {
        "id": "p3K8_iKUahLF"
      }
    },
    {
      "cell_type": "code",
      "source": [],
      "metadata": {
        "id": "pW3tnOwvah92"
      },
      "execution_count": null,
      "outputs": []
    },
    {
      "cell_type": "markdown",
      "source": [
        "좋아요! 초보자를 위한 **Python Dictionary(딕셔너리)** 개념을 아주 쉽게 정리해드릴게요. 마크다운으로 제공하니 `DICTIONARY.md` 같은 파일이나 `README.md`에 그대로 넣어도 됩니다.\n",
        "\n",
        "---\n",
        "\n",
        "````markdown\n",
        "# 📚 Python Dictionary (딕셔너리)\n",
        "\n",
        "**Dictionary(딕셔너리)** 는 `키(key)`와 `값(value)` 쌍으로 데이터를 저장하는 자료형입니다.  \n",
        "전화번호부나 주소록처럼 **이름 → 전화번호** 식으로 대응하는 데이터를 표현할 때 사용합니다.\n",
        "\n",
        "---\n",
        "\n",
        "## ✅ 딕셔너리 만들기\n",
        "\n",
        "```python\n",
        "person = {\n",
        "    \"name\": \"윤은식\",\n",
        "    \"age\": 25,\n",
        "    \"job\": \"developer\"\n",
        "}\n",
        "````\n",
        "\n",
        "---\n",
        "\n",
        "## 🔍 값 접근하기\n",
        "\n",
        "```python\n",
        "print(person[\"name\"])   # 윤은식\n",
        "print(person[\"age\"])    # 25\n",
        "```\n",
        "\n",
        "❗ 존재하지 않는 키를 접근하면 오류가 납니다.\n",
        "→ `get()`을 사용하면 기본값 설정 가능\n",
        "\n",
        "```python\n",
        "print(person.get(\"hobby\", \"없음\"))  # 없음\n",
        "```\n",
        "\n",
        "---\n",
        "\n",
        "## 🛠️ 값 수정 & 추가\n",
        "\n",
        "```python\n",
        "person[\"age\"] = 26              # 값 수정\n",
        "person[\"hobby\"] = \"coding\"      # 새로운 키 추가\n",
        "```\n",
        "\n",
        "---\n",
        "\n",
        "## ❌ 키 삭제\n",
        "\n",
        "```python\n",
        "del person[\"job\"]         # 특정 키 삭제\n",
        "person.pop(\"age\")         # pop으로 삭제\n",
        "person.clear()            # 모든 항목 제거\n",
        "```\n",
        "\n",
        "---\n",
        "\n",
        "## 🔁 반복하기\n",
        "\n",
        "```python\n",
        "for key in person:\n",
        "    print(key, person[key])\n",
        "\n",
        "# 또는\n",
        "for key, value in person.items():\n",
        "    print(f\"{key} → {value}\")\n",
        "```\n",
        "\n",
        "---\n",
        "\n",
        "## 📌 딕셔너리 메서드\n",
        "\n",
        "| 메서드             | 설명              |\n",
        "| --------------- | --------------- |\n",
        "| `dict.keys()`   | 모든 키 반환         |\n",
        "| `dict.values()` | 모든 값 반환         |\n",
        "| `dict.items()`  | (키, 값) 쌍 반환     |\n",
        "| `dict.get()`    | 키에 대한 값 가져오기    |\n",
        "| `dict.update()` | 여러 값 한 번에 수정/추가 |\n",
        "| `dict.pop()`    | 특정 키 삭제 및 값 반환  |\n",
        "\n",
        "---\n",
        "\n",
        "## 🧠 예제\n",
        "\n",
        "```python\n",
        "student = {\n",
        "    \"id\": 1234,\n",
        "    \"name\": \"홍길동\",\n",
        "    \"grade\": \"A\"\n",
        "}\n",
        "\n",
        "# 키 목록 보기\n",
        "print(student.keys())  # dict_keys(['id', 'name', 'grade'])\n",
        "\n",
        "# 값 목록 보기\n",
        "print(student.values())  # dict_values([1234, '홍길동', 'A'])\n",
        "```\n",
        "\n",
        "---\n",
        "\n",
        "## 💡 언제 사용하나요?\n",
        "\n",
        "* 데이터에 이름을 붙여 저장할 때\n",
        "* JSON, API 응답 데이터 처리\n",
        "* 빠르게 값에 접근하고 싶을 때\n",
        "\n",
        "---\n",
        "\n",
        "```\n",
        "\n",
        "---\n",
        "\n",
        "원하시면 `list`, `tuple`, `set`, `if문`, `for문`, `class`도 비슷하게 정리해드릴 수 있어요!  \n",
        "다음은 무엇을 배우고 싶으신가요? 😊\n",
        "```\n"
      ],
      "metadata": {
        "id": "aPnLeXhzasXv"
      }
    },
    {
      "cell_type": "markdown",
      "source": [
        "좋아요! 이번엔 초보자용으로 **`match` 문**에 대해 간단하고 쉽게 설명드릴게요.\n",
        "`Python 3.10` 이상부터 사용할 수 있는 **패턴 매칭 문법**입니다. 아래 내용을 `MATCH.md`나 `README.md`에 붙여넣기 좋게 **마크다운 형식**으로 정리해드릴게요.\n",
        "\n",
        "---\n",
        "\n",
        "````markdown\n",
        "# 🎯 Python `match` 문 (패턴 매칭)\n",
        "\n",
        "`match` 문은 Python 3.10부터 도입된 **패턴 매칭 기능**입니다.  \n",
        "여러 `if-elif` 문을 깔끔하게 정리할 수 있는 새로운 문법이에요.  \n",
        "다른 언어의 `switch` 문과 비슷합니다.\n",
        "\n",
        "---\n",
        "\n",
        "## ✅ 기본 문법\n",
        "\n",
        "```python\n",
        "def check_day(day):\n",
        "    match day:\n",
        "        case \"mon\":\n",
        "            return \"월요일입니다\"\n",
        "        case \"tue\":\n",
        "            return \"화요일입니다\"\n",
        "        case _:\n",
        "            return \"알 수 없는 요일입니다\"\n",
        "````\n",
        "\n",
        "```python\n",
        "print(check_day(\"mon\"))  # 월요일입니다\n",
        "```\n",
        "\n",
        "* `case`는 조건을 의미합니다.\n",
        "* `_` (언더스코어)는 **default** 역할입니다. (모든 값에 대응)\n",
        "\n",
        "---\n",
        "\n",
        "## 🔢 숫자 매칭\n",
        "\n",
        "```python\n",
        "def number_check(n):\n",
        "    match n:\n",
        "        case 1:\n",
        "            return \"하나\"\n",
        "        case 2:\n",
        "            return \"둘\"\n",
        "        case _:\n",
        "            return \"다른 숫자\"\n",
        "```\n",
        "\n",
        "---\n",
        "\n",
        "## 📦 튜플/리스트 구조 분해\n",
        "\n",
        "```python\n",
        "point = (0, 1)\n",
        "\n",
        "match point:\n",
        "    case (0, 0):\n",
        "        print(\"원점입니다.\")\n",
        "    case (0, y):\n",
        "        print(f\"y축 위에 있습니다. y={y}\")\n",
        "    case (x, 0):\n",
        "        print(f\"x축 위에 있습니다. x={x}\")\n",
        "    case (x, y):\n",
        "        print(f\"일반 좌표: ({x}, {y})\")\n",
        "```\n",
        "\n",
        "---\n",
        "\n",
        "## 🔍 조건 추가 (`if`와 함께)\n",
        "\n",
        "```python\n",
        "age = 20\n",
        "\n",
        "match age:\n",
        "    case a if a < 18:\n",
        "        print(\"미성년자\")\n",
        "    case a if a >= 18:\n",
        "        print(\"성인\")\n",
        "```\n",
        "\n",
        "---\n",
        "\n",
        "## 💡 언제 사용할까?\n",
        "\n",
        "* `if-elif`가 길어질 때\n",
        "* 다양한 데이터 패턴을 구분할 때\n",
        "* 튜플, 리스트, 딕셔너리 등 구조 있는 데이터를 검사할 때\n",
        "\n",
        "---\n",
        "\n",
        "## ⚠️ 주의사항\n",
        "\n",
        "* **Python 3.10 이상**에서만 사용 가능합니다.\n",
        "* 단순 비교뿐만 아니라 **구조 분해, 조건 검사, 타입 검사**까지 가능합니다.\n",
        "\n",
        "---\n",
        "\n",
        "## 📚 참고 문서\n",
        "\n",
        "* 공식 문서: [https://docs.python.org/3/whatsnew/3.10.html#pattern-matching](https://docs.python.org/3/whatsnew/3.10.html#pattern-matching)\n",
        "\n",
        "---\n",
        "\n",
        "```\n",
        "\n",
        "---\n",
        "\n",
        "필요하시면 `if-else`, `try-except`, `while`, `class`, `lambda` 같은 다른 문법도 이런 식으로 정리해드릴게요.  \n",
        "다음에 궁금한 건 어떤 건가요? 😊\n",
        "```\n"
      ],
      "metadata": {
        "id": "IDssN85OatIm"
      }
    },
    {
      "cell_type": "markdown",
      "source": [],
      "metadata": {
        "id": "4IxJX-vra_ae"
      }
    },
    {
      "cell_type": "code",
      "source": [
        "x = lambda a : a + 10\n",
        "print(x(5))\n"
      ],
      "metadata": {
        "id": "-NHCOSqubF8W",
        "outputId": "49a38739-32c5-4895-c4fa-44e7153980f5",
        "colab": {
          "base_uri": "https://localhost:8080/"
        }
      },
      "execution_count": 2,
      "outputs": [
        {
          "output_type": "stream",
          "name": "stdout",
          "text": [
            "15\n"
          ]
        }
      ]
    },
    {
      "cell_type": "markdown",
      "source": [
        "좋아요! 이번엔 초보자도 이해하기 쉬운 **람다(lambda)** 함수에 대해 정리해드릴게요.\n",
        "짧은 함수가 필요할 때 유용한 기능입니다. 아래 내용을 `LAMBDA.md`에 그대로 붙여넣으면 깔끔한 문서가 됩니다.\n",
        "\n",
        "---\n",
        "\n",
        "````markdown\n",
        "# ⚡ Python Lambda (람다 함수)\n",
        "\n",
        "**람다(lambda)** 함수는 **이름 없이 사용하는 간단한 함수**입니다.  \n",
        "보통 한 줄짜리 짧은 함수를 빠르게 만들 때 사용합니다.\n",
        "\n",
        "---\n",
        "\n",
        "## ✅ 기본 문법\n",
        "\n",
        "```python\n",
        "lambda 매개변수: 표현식\n",
        "````\n",
        "\n",
        "예시:\n",
        "\n",
        "```python\n",
        "add = lambda x, y: x + y\n",
        "print(add(3, 4))  # 7\n",
        "```\n",
        "\n",
        "☝ `lambda`는 함수를 생성하지만 이름 없이도 만들 수 있습니다.\n",
        "\n",
        "---\n",
        "\n",
        "## 📦 일반 함수 vs 람다\n",
        "\n",
        "```python\n",
        "# 일반 함수\n",
        "def square(x):\n",
        "    return x * x\n",
        "\n",
        "# 람다 함수\n",
        "square = lambda x: x * x\n",
        "\n",
        "print(square(5))  # 25\n",
        "```\n",
        "\n",
        "---\n",
        "\n",
        "## 🔁 람다를 자주 쓰는 곳\n",
        "\n",
        "람다는 **함수를 인자로 넘겨야 할 때** 자주 사용됩니다.\n",
        "\n",
        "### 🔹 `map()`\n",
        "\n",
        "```python\n",
        "nums = [1, 2, 3]\n",
        "squares = list(map(lambda x: x**2, nums))\n",
        "print(squares)  # [1, 4, 9]\n",
        "```\n",
        "\n",
        "### 🔹 `filter()`\n",
        "\n",
        "```python\n",
        "nums = [1, 2, 3, 4, 5]\n",
        "evens = list(filter(lambda x: x % 2 == 0, nums))\n",
        "print(evens)  # [2, 4]\n",
        "```\n",
        "\n",
        "### 🔹 `sorted()` 정렬 기준 지정\n",
        "\n",
        "```python\n",
        "students = [(\"철수\", 90), (\"영희\", 80), (\"민수\", 95)]\n",
        "# 점수 기준으로 정렬\n",
        "sorted_students = sorted(students, key=lambda x: x[1])\n",
        "print(sorted_students)\n",
        "```\n",
        "\n",
        "---\n",
        "\n",
        "## ❗ 주의할 점\n",
        "\n",
        "* **한 줄만** 작성 가능 (복잡한 로직에는 일반 함수를 쓰세요)\n",
        "* **이름 없는 함수**이기 때문에 디버깅이 어려울 수 있어요\n",
        "\n",
        "---\n",
        "\n",
        "## 💡 언제 사용할까?\n",
        "\n",
        "* 함수를 **짧게 간단하게 표현**할 때\n",
        "* `map()`, `filter()`, `sorted()` 같은 함수와 함께\n",
        "* 복잡한 이름 없이 잠깐만 쓰는 함수가 필요할 때\n",
        "\n",
        "---\n",
        "\n",
        "## 📚 참고\n",
        "\n",
        "* 공식 문서: [https://docs.python.org/3/reference/expressions.html#lambda](https://docs.python.org/3/reference/expressions.html#lambda)\n",
        "\n",
        "---\n",
        "\n",
        "```\n",
        "\n",
        "---\n",
        "\n",
        "다음으로 `map`, `filter`, `list comprehension`, `class`, 또는 `try-except` 등도 이어서 정리해드릴 수 있어요!  \n",
        "계속 진행할까요? 😊\n",
        "```\n"
      ],
      "metadata": {
        "id": "47-DI20fbRLP"
      }
    },
    {
      "cell_type": "code",
      "source": [],
      "metadata": {
        "id": "auAg3qxpbSGe"
      },
      "execution_count": null,
      "outputs": []
    },
    {
      "cell_type": "markdown",
      "source": [
        "좋아요! 이번에는 초보자에게 친절하게 설명하는 **Python에서의 Arrays(배열)** 를 정리해드릴게요.\n",
        "Python은 기본적으로 `list`를 많이 쓰지만, `array` 모듈이나 `NumPy` 배열도 존재합니다.\n",
        "아래 내용은 `ARRAYS.md`에 붙여넣기 좋게 마크다운 형식으로 정리해드렸어요.\n",
        "\n",
        "---\n",
        "\n",
        "````markdown\n",
        "# 📦 Python Arrays (배열)\n",
        "\n",
        "Python에서는 배열을 다루는 방법이 여러 가지 있지만, 기본적으로는 **`list`**를 가장 많이 사용합니다.  \n",
        "좀 더 **C 스타일의 배열**이 필요할 경우에는 `array` 모듈 또는 `numpy`를 사용합니다.\n",
        "\n",
        "---\n",
        "\n",
        "## ✅ 리스트를 배열처럼 사용하기\n",
        "\n",
        "```python\n",
        "numbers = [10, 20, 30, 40]\n",
        "print(numbers[0])  # 10\n",
        "````\n",
        "\n",
        "* Python의 `list`는 사실상 동적 배열입니다.\n",
        "* 숫자뿐만 아니라 문자열, 객체 등도 함께 저장 가능\n",
        "\n",
        "---\n",
        "\n",
        "## 🧰 `array` 모듈 사용하기 (기초 배열)\n",
        "\n",
        "```python\n",
        "import array\n",
        "\n",
        "# 정수형 배열 만들기 ('i'는 integer 타입코드)\n",
        "arr = array.array('i', [1, 2, 3, 4])\n",
        "print(arr[1])  # 2\n",
        "```\n",
        "\n",
        "| 타입코드  | 데이터 타입     |\n",
        "| ----- | ---------- |\n",
        "| `'i'` | 정수 (int)   |\n",
        "| `'f'` | 실수 (float) |\n",
        "\n",
        "> ✅ 배열은 같은 타입의 데이터만 저장 가능합니다.\n",
        "\n",
        "---\n",
        "\n",
        "## 🔄 배열 기본 연산\n",
        "\n",
        "```python\n",
        "arr.append(5)      # 요소 추가\n",
        "arr.remove(2)      # 값이 2인 요소 삭제\n",
        "arr.insert(1, 100) # 인덱스 1에 100 삽입\n",
        "```\n",
        "\n",
        "---\n",
        "\n",
        "## 🧠 NumPy 배열 사용 (추천)\n",
        "\n",
        "```python\n",
        "import numpy as np\n",
        "\n",
        "arr = np.array([1, 2, 3, 4])\n",
        "print(arr[0])       # 1\n",
        "print(arr + 10)     # [11 12 13 14]\n",
        "```\n",
        "\n",
        "* NumPy 배열은 수학/과학 계산에 최적화\n",
        "* 빠르고 다양한 수치 연산 지원\n",
        "* 추천: 데이터 분석, 머신러닝, 대규모 배열 작업 시\n",
        "\n",
        "---\n",
        "\n",
        "## 🆚 리스트 vs array vs numpy\n",
        "\n",
        "| 구분    | list  | array.array | numpy.array |\n",
        "| ----- | ----- | ----------- | ----------- |\n",
        "| 타입 혼합 | 가능    | 불가능 (한 타입)  | 불가능 (한 타입)  |\n",
        "| 연산 지원 | 제한적   | 제한적         | 고급 연산 가능    |\n",
        "| 속도    | 느림    | 빠름          | 매우 빠름       |\n",
        "| 활용 용도 | 일반 용도 | 가벼운 배열      | 과학/데이터 계산용  |\n",
        "\n",
        "---\n",
        "\n",
        "## 📚 결론\n",
        "\n",
        "* 일반적인 경우: `list` 사용\n",
        "* 숫자 전용 배열 필요: `array.array`\n",
        "* 과학적 계산, 성능이 중요할 경우: `numpy`\n",
        "\n",
        "---\n",
        "\n",
        "## 📎 참고\n",
        "\n",
        "* `array` 공식 문서: [https://docs.python.org/3/library/array.html](https://docs.python.org/3/library/array.html)\n",
        "* `NumPy`: [https://numpy.org/](https://numpy.org/)\n",
        "\n",
        "---\n",
        "\n",
        "```\n",
        "\n",
        "---\n",
        "\n",
        "필요하시면 `list`, `map`, `filter`, `comprehension`, `OOP`, `module`, `try-except` 등도 이어서 정리해드릴게요.  \n",
        "다음으로 배우고 싶은 주제 있으신가요? 😊\n",
        "```\n"
      ],
      "metadata": {
        "id": "gQzRuafabsBu"
      }
    },
    {
      "cell_type": "code",
      "source": [
        "append()\tAdds an element at the end of the list\n",
        "clear()\tRemoves all the elements from the list\n",
        "copy()\tReturns a copy of the list\n",
        "count()\tReturns the number of elements with the specified value\n",
        "extend()\tAdd the elements of a list (or any iterable), to the end of the current list\n",
        "index()\tReturns the index of the first element with the specified value\n",
        "insert()\tAdds an element at the specified position\n",
        "pop()\tRemoves the element at the specified position\n",
        "remove()\tRemoves the first item with the specified value\n",
        "reverse()\tReverses the order of the list\n",
        "sort()\tSorts the list"
      ],
      "metadata": {
        "id": "r4wlZGKkbsjG"
      },
      "execution_count": null,
      "outputs": []
    },
    {
      "cell_type": "code",
      "source": [],
      "metadata": {
        "id": "CdD4GNMDb0b-"
      },
      "execution_count": null,
      "outputs": []
    }
  ]
}
